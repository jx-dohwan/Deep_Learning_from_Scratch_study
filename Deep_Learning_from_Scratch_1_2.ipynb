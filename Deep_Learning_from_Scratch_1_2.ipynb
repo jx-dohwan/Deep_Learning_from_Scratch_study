{
  "nbformat": 4,
  "nbformat_minor": 0,
  "metadata": {
    "colab": {
      "provenance": [],
      "authorship_tag": "ABX9TyOsIS28J+yqS/0z4k+bCrs5",
      "include_colab_link": true
    },
    "kernelspec": {
      "name": "python3",
      "display_name": "Python 3"
    },
    "language_info": {
      "name": "python"
    }
  },
  "cells": [
    {
      "cell_type": "markdown",
      "metadata": {
        "id": "view-in-github",
        "colab_type": "text"
      },
      "source": [
        "<a href=\"https://colab.research.google.com/github/jx-dohwan/Deep_Learning_from_Scratch_study/blob/main/Deep_Learning_from_Scratch_1_2.ipynb\" target=\"_parent\"><img src=\"https://colab.research.google.com/assets/colab-badge.svg\" alt=\"Open In Colab\"/></a>"
      ]
    },
    {
      "cell_type": "markdown",
      "source": [
        "# Deep_Learning_from_Scratch_1_2\n",
        "### 개요\n",
        "\n",
        "> #### 이번 장에서는 퍼셉트론(perceptron) 알고리즘을 공부하게 될 것이다. 퍼셉트론은 신경망의 기원이 되는 알고리즘이기 때문에 신경망을 배우기전 기초적으로 공부하고 지나가봐야 한다."
      ],
      "metadata": {
        "id": "2WrOXxyyuyUb"
      }
    },
    {
      "cell_type": "markdown",
      "source": [
        "## 퍼셉트론이란?\n",
        "> #### 퍼셉트론은 다수의 신호를 입력으로 받아 하나의 신호를 출력한다. 입력 신호가 뉴런에 보내질 때는 각각 고유한 가중치가 곱해지고 뉴런에서 보내온 신호의 총합이 정해진 한계(임계값)를 넘어설 때만 1을 출력한다.\n",
        "- 가중치 : 각 신호가 결과에 주는 영향력을 조절하는 요소로 가중치가 크면 더 중요한 것이다."
      ],
      "metadata": {
        "id": "KcUrqd8Eu03h"
      }
    },
    {
      "cell_type": "markdown",
      "source": [
        "## 단순 회로 논리\n",
        "> #### 단순 회로 눈리에는 AND 게이트, NAND게이트, OR게이트가 있다. 그중 AND게이트는 입력이 둘이고 출력이 하나인 것을 뜻한다. NAND 게이트는 NOT AND를 뜻하며 AND출력의 반대를 이야기 한다. 마지막으로 OR게이트는 입력 신호 중 하나 이상이 1이면 출력이 1이 되는 논리 회로이다.\n",
        "<BR> 중요한 것은 퍼셉트론의 구조는 세가지 게이트에서 모두 똑같다. 다른 것이 있다면 가중치와 임계값뿐이다. 즉, 매개변수의 값을 조정하는 것이 굉장히 중요하다는 뜻이다."
      ],
      "metadata": {
        "id": "PaNBHbZ3wmYM"
      }
    },
    {
      "cell_type": "markdown",
      "source": [
        "## 퍼셉트론 구현"
      ],
      "metadata": {
        "id": "GmRzqDZ0xY_O"
      }
    },
    {
      "cell_type": "code",
      "execution_count": 2,
      "metadata": {
        "id": "uRvoHwtcukV4"
      },
      "outputs": [],
      "source": [
        "def AND(x1, x2):\n",
        "  w1, w2, theta = 0.5, 0.5, 0.7 # w1, w2 : 가중치, theta : 임계값\n",
        "  tmp = x1*w1 + x2*w2 # 각 신호에 가중치를 곱한 값의 총합이다.\n",
        "  if tmp <= theta: # 가중치를 곱한 값의 총합이 임계값이랑 같거나 작으면 0을 반환한다.\n",
        "    return 0\n",
        "  elif tmp > theta: # 가중치를 곱한 값의 총합이 임계값보다 크면 1을 반환한다.\n",
        "    return 1"
      ]
    },
    {
      "cell_type": "code",
      "source": [
        "print('출력값 : ', AND(0,0))\n",
        "print('출력값 : ', AND(1,0))\n",
        "print('출력값 : ', AND(0,1))\n",
        "print('출력값 : ', AND(1,1))\n"
      ],
      "metadata": {
        "colab": {
          "base_uri": "https://localhost:8080/"
        },
        "id": "4VL5TR16xsOF",
        "outputId": "c3810b98-3beb-4efa-abc9-68ab561e1c98"
      },
      "execution_count": 5,
      "outputs": [
        {
          "output_type": "stream",
          "name": "stdout",
          "text": [
            "출력값 :  0\n",
            "출력값 :  0\n",
            "출력값 :  0\n",
            "출력값 :  1\n"
          ]
        }
      ]
    },
    {
      "cell_type": "markdown",
      "source": [
        "## 가중치와 편항\n",
        "> 편향(bias)는 입력 신호에 가중치를 곱한값과 편향을 합하는 것이다. 이를 통해서 뉴런이 얼마나 쉽게 활성화(결과로 1을 출력)하느냐를 조정하는 매개변수인 것이다. 만약 편향이 0.5 이면 입력 신호에 가중치를 곱한 값들의 합이 0.5를 초과할 때만 뉴런이 활성화 된다는 것이다."
      ],
      "metadata": {
        "id": "Ec9OuCWz4InR"
      }
    },
    {
      "cell_type": "code",
      "source": [
        "import numpy as np\n",
        "x = np.array([0,1])\n",
        "w = np.array([0.5, 0.5])\n",
        "b = -0.7\n",
        "w*x"
      ],
      "metadata": {
        "colab": {
          "base_uri": "https://localhost:8080/"
        },
        "id": "pCP9yW0FyL4A",
        "outputId": "fa69cdc8-42dc-4f8d-982b-ef96bdb9a1fb"
      },
      "execution_count": 6,
      "outputs": [
        {
          "output_type": "execute_result",
          "data": {
            "text/plain": [
              "array([0. , 0.5])"
            ]
          },
          "metadata": {},
          "execution_count": 6
        }
      ]
    },
    {
      "cell_type": "code",
      "source": [
        "np.sum(w*x)"
      ],
      "metadata": {
        "colab": {
          "base_uri": "https://localhost:8080/"
        },
        "id": "__6doJg04k4J",
        "outputId": "0dcabe9e-eb0a-4dc0-da7e-ab58d201e3de"
      },
      "execution_count": 8,
      "outputs": [
        {
          "output_type": "execute_result",
          "data": {
            "text/plain": [
              "0.5"
            ]
          },
          "metadata": {},
          "execution_count": 8
        }
      ]
    },
    {
      "cell_type": "code",
      "source": [
        "np.sum(w*x)+b"
      ],
      "metadata": {
        "colab": {
          "base_uri": "https://localhost:8080/"
        },
        "id": "kBnppkDf4nGR",
        "outputId": "b5340719-06fc-4be9-c7aa-a57b623bf520"
      },
      "execution_count": 9,
      "outputs": [
        {
          "output_type": "execute_result",
          "data": {
            "text/plain": [
              "-0.19999999999999996"
            ]
          },
          "metadata": {},
          "execution_count": 9
        }
      ]
    },
    {
      "cell_type": "markdown",
      "source": [
        "- AND, NAND, OR을 구현할 것이다. 구조는 모두 같다. 차이점이 있다면 가중치 매개변수이다. "
      ],
      "metadata": {
        "id": "l86bi_nz6Qbf"
      }
    },
    {
      "cell_type": "code",
      "source": [
        "def AND(x1, x2):\n",
        "  x = np.array([x1, x2])\n",
        "  w = np.array([0.5, 0.5])\n",
        "  b = -0.7\n",
        "  tmp = np.sum(w*x) + b\n",
        "  if tmp <= 0:\n",
        "    return 0\n",
        "  else:\n",
        "    return 1"
      ],
      "metadata": {
        "id": "Hykl-hhL4qnw"
      },
      "execution_count": 10,
      "outputs": []
    },
    {
      "cell_type": "code",
      "source": [
        "def NAND(x1, x2):\n",
        "  x = np.array([x1, x2])\n",
        "  w = np.array([-0.5, -0.5])\n",
        "  b = 0.7\n",
        "  tmp = np.sum(w*x) + b\n",
        "  if tmp <= 0:\n",
        "    return 0\n",
        "  else:\n",
        "    return 1"
      ],
      "metadata": {
        "id": "Ya_mDEgh5jHo"
      },
      "execution_count": 11,
      "outputs": []
    },
    {
      "cell_type": "code",
      "source": [
        "def OR(x1, x2):\n",
        "  x = np.array([x1, x2])\n",
        "  w = np.array([0.5, 0.5])\n",
        "  b = -0.2\n",
        "  tmp = np.sum(w*x) + b\n",
        "  if tmp <= 0:\n",
        "    return 0\n",
        "  else:\n",
        "    return 1"
      ],
      "metadata": {
        "id": "95-FzWw_56_U"
      },
      "execution_count": 12,
      "outputs": []
    },
    {
      "cell_type": "markdown",
      "source": [
        "## 퍼셉트론의 한계와 XOR 게이트\n",
        "> #### XOR 게이트는 배타적 논리합라는 논리회로이다. 그러나 퍼셉트론으로는 XOR를 구현할 수 없다. 그래서 고안된 것이 다층 퍼셉트론이다.(multi-layer perceptron) 이를 다르게 표현하자면 일반 퍼셉트론은 직선 하나로 나눈 영역만 표현할 수 있지만 다층 퍼헵트론은 곡선 즉 비선형 영역까지 나눌 수 있다.\n",
        "<br> 앞에 사용한 AND, NAND, OR을 조합하여 다층으로 쌓아 XOR 게이트를 구현할 수 있다."
      ],
      "metadata": {
        "id": "O7hJ9LF36fkn"
      }
    },
    {
      "cell_type": "code",
      "source": [
        "def XOR(x1, x2):\n",
        "  s1 = NAND(x1, x2)\n",
        "  s2 = OR(x1, x2)\n",
        "  y = AND(s1, s2)\n",
        "  return y"
      ],
      "metadata": {
        "id": "PduHK5qJ6Zsl"
      },
      "execution_count": 13,
      "outputs": []
    },
    {
      "cell_type": "code",
      "source": [
        "print('출력값 : ', XOR(0,0))\n",
        "print('출력값 : ', XOR(1,0))\n",
        "print('출력값 : ', XOR(0,1))\n",
        "print('출력값 : ', XOR(1,1))"
      ],
      "metadata": {
        "colab": {
          "base_uri": "https://localhost:8080/"
        },
        "id": "s1FVKQi17x3v",
        "outputId": "8f944d39-1a58-4f7a-900e-37beb5c8e838"
      },
      "execution_count": 14,
      "outputs": [
        {
          "output_type": "stream",
          "name": "stdout",
          "text": [
            "출력값 :  0\n",
            "출력값 :  1\n",
            "출력값 :  1\n",
            "출력값 :  0\n"
          ]
        }
      ]
    }
  ]
}